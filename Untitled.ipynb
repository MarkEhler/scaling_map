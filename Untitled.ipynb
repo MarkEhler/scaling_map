{
 "cells": [
  {
   "cell_type": "code",
   "execution_count": 2,
   "metadata": {},
   "outputs": [],
   "source": [
    "import pandas as pd\n",
    "import numpy as np"
   ]
  },
  {
   "cell_type": "code",
   "execution_count": 4,
   "metadata": {},
   "outputs": [
    {
     "data": {
      "text/html": [
       "<div>\n",
       "<style scoped>\n",
       "    .dataframe tbody tr th:only-of-type {\n",
       "        vertical-align: middle;\n",
       "    }\n",
       "\n",
       "    .dataframe tbody tr th {\n",
       "        vertical-align: top;\n",
       "    }\n",
       "\n",
       "    .dataframe thead th {\n",
       "        text-align: right;\n",
       "    }\n",
       "</style>\n",
       "<table border=\"1\" class=\"dataframe\">\n",
       "  <thead>\n",
       "    <tr style=\"text-align: right;\">\n",
       "      <th></th>\n",
       "      <th>Country</th>\n",
       "      <th>Lat</th>\n",
       "      <th>Lon</th>\n",
       "    </tr>\n",
       "  </thead>\n",
       "  <tbody>\n",
       "    <tr>\n",
       "      <th>0</th>\n",
       "      <td>USA</td>\n",
       "      <td>2</td>\n",
       "      <td>1</td>\n",
       "    </tr>\n",
       "    <tr>\n",
       "      <th>1</th>\n",
       "      <td>USA</td>\n",
       "      <td>2</td>\n",
       "      <td>0</td>\n",
       "    </tr>\n",
       "    <tr>\n",
       "      <th>2</th>\n",
       "      <td>Canada</td>\n",
       "      <td>1</td>\n",
       "      <td>1</td>\n",
       "    </tr>\n",
       "    <tr>\n",
       "      <th>3</th>\n",
       "      <td>Mexico</td>\n",
       "      <td>3</td>\n",
       "      <td>1</td>\n",
       "    </tr>\n",
       "    <tr>\n",
       "      <th>4</th>\n",
       "      <td>UK</td>\n",
       "      <td>1</td>\n",
       "      <td>2</td>\n",
       "    </tr>\n",
       "  </tbody>\n",
       "</table>\n",
       "</div>"
      ],
      "text/plain": [
       "  Country Lat Lon\n",
       "0     USA   2   1\n",
       "1     USA   2   0\n",
       "2  Canada   1   1\n",
       "3  Mexico   3   1\n",
       "4      UK   1   2"
      ]
     },
     "execution_count": 4,
     "metadata": {},
     "output_type": "execute_result"
    }
   ],
   "source": [
    "countires = ['USA', 'USA', 'Canada', 'Mexico', 'UK', 'Spain', 'Morocco']\n",
    "#if provided a m=bunch of floats/multi diget integers\n",
    "# it might be best to round these numbers\n",
    "# You'd have to hard code for large countries at this step\n",
    "latitude = ['2', '2', '1','3','1','2','3'] \n",
    "longitude = ['1', '0', '1','1','2','2.5','2']\n",
    "# I already have a broad idea of the shape of the map it will be...\n",
    "matrix_height = 3\n",
    "matrix_len = 2\n",
    "\n",
    "sort_countries = pd.DataFrame({'Country': countires, 'Lat': latitude, 'Lon': longitude})\n",
    "sort_countries.head()"
   ]
  },
  {
   "cell_type": "code",
   "execution_count": 5,
   "metadata": {},
   "outputs": [
    {
     "data": {
      "text/plain": [
       "2    1\n",
       "4    1\n",
       "0    2\n",
       "1    2\n",
       "5    2\n",
       "3    3\n",
       "6    3\n",
       "Name: Lat, dtype: object"
      ]
     },
     "execution_count": 5,
     "metadata": {},
     "output_type": "execute_result"
    }
   ],
   "source": [
    "sort_countries.Lat.sort_values()"
   ]
  },
  {
   "cell_type": "code",
   "execution_count": 6,
   "metadata": {},
   "outputs": [],
   "source": [
    "# as of right now the countries are unordered\n",
    "# first we must sort the data so that it can be an ordered matrix\n",
    "table = pd.pivot_table(sort_countries, index=['Lat', 'Lon'], aggfunc=np.sum).reset_index()"
   ]
  },
  {
   "cell_type": "code",
   "execution_count": 7,
   "metadata": {},
   "outputs": [],
   "source": [
    "# table returns my features sorted by Lat and then sorted by Lon\n",
    "# writing a new column which is a copy of the newly indexed information\n",
    "# see the table below\n",
    "table['index'] = table.index"
   ]
  },
  {
   "cell_type": "code",
   "execution_count": 8,
   "metadata": {},
   "outputs": [
    {
     "data": {
      "text/html": [
       "<div>\n",
       "<style scoped>\n",
       "    .dataframe tbody tr th:only-of-type {\n",
       "        vertical-align: middle;\n",
       "    }\n",
       "\n",
       "    .dataframe tbody tr th {\n",
       "        vertical-align: top;\n",
       "    }\n",
       "\n",
       "    .dataframe thead th {\n",
       "        text-align: right;\n",
       "    }\n",
       "</style>\n",
       "<table border=\"1\" class=\"dataframe\">\n",
       "  <thead>\n",
       "    <tr style=\"text-align: right;\">\n",
       "      <th></th>\n",
       "      <th>Lat</th>\n",
       "      <th>Lon</th>\n",
       "      <th>Country</th>\n",
       "      <th>index</th>\n",
       "    </tr>\n",
       "  </thead>\n",
       "  <tbody>\n",
       "    <tr>\n",
       "      <th>0</th>\n",
       "      <td>1</td>\n",
       "      <td>1</td>\n",
       "      <td>Canada</td>\n",
       "      <td>0</td>\n",
       "    </tr>\n",
       "    <tr>\n",
       "      <th>1</th>\n",
       "      <td>1</td>\n",
       "      <td>2</td>\n",
       "      <td>UK</td>\n",
       "      <td>1</td>\n",
       "    </tr>\n",
       "    <tr>\n",
       "      <th>2</th>\n",
       "      <td>2</td>\n",
       "      <td>0</td>\n",
       "      <td>USA</td>\n",
       "      <td>2</td>\n",
       "    </tr>\n",
       "    <tr>\n",
       "      <th>3</th>\n",
       "      <td>2</td>\n",
       "      <td>1</td>\n",
       "      <td>USA</td>\n",
       "      <td>3</td>\n",
       "    </tr>\n",
       "    <tr>\n",
       "      <th>4</th>\n",
       "      <td>2</td>\n",
       "      <td>2.5</td>\n",
       "      <td>Spain</td>\n",
       "      <td>4</td>\n",
       "    </tr>\n",
       "    <tr>\n",
       "      <th>5</th>\n",
       "      <td>3</td>\n",
       "      <td>1</td>\n",
       "      <td>Mexico</td>\n",
       "      <td>5</td>\n",
       "    </tr>\n",
       "    <tr>\n",
       "      <th>6</th>\n",
       "      <td>3</td>\n",
       "      <td>2</td>\n",
       "      <td>Morocco</td>\n",
       "      <td>6</td>\n",
       "    </tr>\n",
       "  </tbody>\n",
       "</table>\n",
       "</div>"
      ],
      "text/plain": [
       "  Lat  Lon  Country  index\n",
       "0   1    1   Canada      0\n",
       "1   1    2       UK      1\n",
       "2   2    0      USA      2\n",
       "3   2    1      USA      3\n",
       "4   2  2.5    Spain      4\n",
       "5   3    1   Mexico      5\n",
       "6   3    2  Morocco      6"
      ]
     },
     "execution_count": 8,
     "metadata": {},
     "output_type": "execute_result"
    }
   ],
   "source": [
    "table"
   ]
  },
  {
   "cell_type": "code",
   "execution_count": 9,
   "metadata": {},
   "outputs": [],
   "source": [
    "# if we were to sort the data as a matrix it would look like this\n",
    "# [[0, 1, 2],\n",
    "#  [3, 4, 5]]\n",
    "# there must be a way to transform this list into a matrix..."
   ]
  },
  {
   "cell_type": "code",
   "execution_count": 11,
   "metadata": {},
   "outputs": [
    {
     "data": {
      "text/plain": [
       "matrix([[0, 1],\n",
       "        [2, 3],\n",
       "        [5, 6]])"
      ]
     },
     "execution_count": 11,
     "metadata": {},
     "output_type": "execute_result"
    }
   ],
   "source": [
    "np.matrix([list(table.index[:2]), list(table.index[2:4]), list(table.index[5:])])"
   ]
  },
  {
   "cell_type": "code",
   "execution_count": null,
   "metadata": {},
   "outputs": [],
   "source": [
    "# using the your previous idea of the dimetions of the map we can kinda figure out the shape of the final matrix\n",
    "\n",
    "matrix_entires = table.shape[0]\n",
    "matrix_entires / matrix_len"
   ]
  },
  {
   "cell_type": "code",
   "execution_count": null,
   "metadata": {},
   "outputs": [],
   "source": [
    "# what if a country is two spaces long\n",
    "# what if a country is two space wide\n",
    "\n",
    "\n",
    "def horizontal_adjacency(country,number_of_countries):\n",
    "    '''\n",
    "    checks for horizontal geospatial adjaceny and adds to adjacency list\n",
    "    '''\n",
    "    \n",
    "    return list_of_adjacencies\n",
    "\n",
    "def vertical_adjacency(country):\n",
    "    '''\n",
    "    checks for vertical adjacency and adds to adjacency list\n",
    "    '''\n",
    "    return list_of_adjacencies\n",
    "\n",
    "def diagonal_adjacency(country):\n",
    "    '''\n",
    "    checks for horizontal adjacency in either direction and adds to adjacency list\n",
    "    '''\n",
    "    return list_of_adjacencies\n",
    "\n",
    "def check_adjacency(data):\n",
    "    '''\n",
    "    uses helper functions to build a new adjecency feature associated with each country in the dataset\n",
    "    '''\n",
    "    for country in data:\n",
    "        adjacent = horizontal_adjacency(country)\n",
    "        adjacent = adjacent + vertical_adjacency(country) # adding one list on to the end of the first list\n",
    "        adjacent = adjacent + diagonal_adjacency(country)\n",
    "        \n",
    "    \n",
    "    return data['adjacentcies'] = adjacent # this final return statement won't work right in python fyi"
   ]
  }
 ],
 "metadata": {
  "kernelspec": {
   "display_name": "Python 3",
   "language": "python",
   "name": "python3"
  },
  "language_info": {
   "codemirror_mode": {
    "name": "ipython",
    "version": 3
   },
   "file_extension": ".py",
   "mimetype": "text/x-python",
   "name": "python",
   "nbconvert_exporter": "python",
   "pygments_lexer": "ipython3",
   "version": "3.6.7"
  }
 },
 "nbformat": 4,
 "nbformat_minor": 2
}
